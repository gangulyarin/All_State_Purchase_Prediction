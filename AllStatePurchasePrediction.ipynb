{
  "nbformat": 4,
  "nbformat_minor": 0,
  "metadata": {
    "colab": {
      "provenance": [],
      "authorship_tag": "ABX9TyMTdUoDVoCPwzO1tgHyehx1",
      "include_colab_link": true
    },
    "kernelspec": {
      "name": "python3",
      "display_name": "Python 3"
    },
    "language_info": {
      "name": "python"
    }
  },
  "cells": [
    {
      "cell_type": "markdown",
      "metadata": {
        "id": "view-in-github",
        "colab_type": "text"
      },
      "source": [
        "<a href=\"https://colab.research.google.com/github/gangulyarin/All_State_Purchase_Prediction/blob/main/AllStatePurchasePrediction.ipynb\" target=\"_parent\"><img src=\"https://colab.research.google.com/assets/colab-badge.svg\" alt=\"Open In Colab\"/></a>"
      ]
    },
    {
      "cell_type": "code",
      "execution_count": 1,
      "metadata": {
        "id": "KGTTw7NHI6Qg"
      },
      "outputs": [],
      "source": [
        "! pip install -q kaggle"
      ]
    },
    {
      "cell_type": "code",
      "source": [
        "! mkdir ~/.kaggle"
      ],
      "metadata": {
        "id": "uLSObmb6LmTO"
      },
      "execution_count": 2,
      "outputs": []
    },
    {
      "cell_type": "code",
      "source": [
        "! rm ~/.kaggle/kaggle.json"
      ],
      "metadata": {
        "colab": {
          "base_uri": "https://localhost:8080/"
        },
        "id": "5Sb3sjYzLo4b",
        "outputId": "25d7fc1a-3855-4a78-acad-2725f2b8ad4d"
      },
      "execution_count": 3,
      "outputs": [
        {
          "output_type": "stream",
          "name": "stdout",
          "text": [
            "rm: cannot remove '/root/.kaggle/kaggle.json': No such file or directory\n"
          ]
        }
      ]
    },
    {
      "cell_type": "code",
      "source": [
        "! cp kaggle.json ~/.kaggle/"
      ],
      "metadata": {
        "id": "hnPGfpJfLriV"
      },
      "execution_count": 4,
      "outputs": []
    },
    {
      "cell_type": "code",
      "source": [
        "! chmod 600 ~/.kaggle/kaggle.json"
      ],
      "metadata": {
        "id": "4gQgtNaTLuiQ"
      },
      "execution_count": 5,
      "outputs": []
    },
    {
      "cell_type": "code",
      "source": [
        "! kaggle competitions download -c allstate-purchase-prediction-challenge"
      ],
      "metadata": {
        "colab": {
          "base_uri": "https://localhost:8080/"
        },
        "id": "vKqmb9XhLwUv",
        "outputId": "1c7dcd29-3dfb-4be2-9e4e-852bc2f66173"
      },
      "execution_count": 6,
      "outputs": [
        {
          "output_type": "stream",
          "name": "stdout",
          "text": [
            "Downloading allstate-purchase-prediction-challenge.zip to /content\n",
            "100% 7.56M/7.56M [00:01<00:00, 12.4MB/s]\n",
            "100% 7.56M/7.56M [00:01<00:00, 7.53MB/s]\n"
          ]
        }
      ]
    },
    {
      "cell_type": "code",
      "source": [
        "import zipfile\n",
        "with zipfile.ZipFile('allstate-purchase-prediction-challenge.zip') as zf:\n",
        "  zf.extractall('')"
      ],
      "metadata": {
        "id": "xBmQBKFJL3Lb"
      },
      "execution_count": 7,
      "outputs": []
    },
    {
      "cell_type": "code",
      "source": [
        "import zipfile\n",
        "with zipfile.ZipFile('train.csv.zip') as zf:\n",
        "  zf.extractall('')"
      ],
      "metadata": {
        "id": "YwzZoeTpL9yC"
      },
      "execution_count": 8,
      "outputs": []
    },
    {
      "cell_type": "code",
      "source": [
        "import pandas as pd\n",
        "\n",
        "data = pd.read_csv(\"train.csv\")\n",
        "data.head()"
      ],
      "metadata": {
        "colab": {
          "base_uri": "https://localhost:8080/",
          "height": 236
        },
        "id": "ny3Ex_1GMEVl",
        "outputId": "9d7605b2-d6d5-4de5-81c5-6cc151d4a068"
      },
      "execution_count": 9,
      "outputs": [
        {
          "output_type": "execute_result",
          "data": {
            "text/plain": [
              "   customer_ID  shopping_pt  record_type  day   time state  location  \\\n",
              "0     10000000            1            0    0  08:35    IN     10001   \n",
              "1     10000000            2            0    0  08:38    IN     10001   \n",
              "2     10000000            3            0    0  08:38    IN     10001   \n",
              "3     10000000            4            0    0  08:39    IN     10001   \n",
              "4     10000000            5            0    0  11:55    IN     10001   \n",
              "\n",
              "   group_size  homeowner  car_age  ... C_previous  duration_previous  A  B  C  \\\n",
              "0           2          0        2  ...        1.0                2.0  1  0  2   \n",
              "1           2          0        2  ...        1.0                2.0  1  0  2   \n",
              "2           2          0        2  ...        1.0                2.0  1  0  2   \n",
              "3           2          0        2  ...        1.0                2.0  1  0  2   \n",
              "4           2          0        2  ...        1.0                2.0  1  0  2   \n",
              "\n",
              "   D  E  F  G  cost  \n",
              "0  2  1  2  2   633  \n",
              "1  2  1  2  1   630  \n",
              "2  2  1  2  1   630  \n",
              "3  2  1  2  1   630  \n",
              "4  2  1  2  1   630  \n",
              "\n",
              "[5 rows x 25 columns]"
            ],
            "text/html": [
              "\n",
              "  <div id=\"df-44612ce1-8c9d-4891-854d-19d660576f15\">\n",
              "    <div class=\"colab-df-container\">\n",
              "      <div>\n",
              "<style scoped>\n",
              "    .dataframe tbody tr th:only-of-type {\n",
              "        vertical-align: middle;\n",
              "    }\n",
              "\n",
              "    .dataframe tbody tr th {\n",
              "        vertical-align: top;\n",
              "    }\n",
              "\n",
              "    .dataframe thead th {\n",
              "        text-align: right;\n",
              "    }\n",
              "</style>\n",
              "<table border=\"1\" class=\"dataframe\">\n",
              "  <thead>\n",
              "    <tr style=\"text-align: right;\">\n",
              "      <th></th>\n",
              "      <th>customer_ID</th>\n",
              "      <th>shopping_pt</th>\n",
              "      <th>record_type</th>\n",
              "      <th>day</th>\n",
              "      <th>time</th>\n",
              "      <th>state</th>\n",
              "      <th>location</th>\n",
              "      <th>group_size</th>\n",
              "      <th>homeowner</th>\n",
              "      <th>car_age</th>\n",
              "      <th>...</th>\n",
              "      <th>C_previous</th>\n",
              "      <th>duration_previous</th>\n",
              "      <th>A</th>\n",
              "      <th>B</th>\n",
              "      <th>C</th>\n",
              "      <th>D</th>\n",
              "      <th>E</th>\n",
              "      <th>F</th>\n",
              "      <th>G</th>\n",
              "      <th>cost</th>\n",
              "    </tr>\n",
              "  </thead>\n",
              "  <tbody>\n",
              "    <tr>\n",
              "      <th>0</th>\n",
              "      <td>10000000</td>\n",
              "      <td>1</td>\n",
              "      <td>0</td>\n",
              "      <td>0</td>\n",
              "      <td>08:35</td>\n",
              "      <td>IN</td>\n",
              "      <td>10001</td>\n",
              "      <td>2</td>\n",
              "      <td>0</td>\n",
              "      <td>2</td>\n",
              "      <td>...</td>\n",
              "      <td>1.0</td>\n",
              "      <td>2.0</td>\n",
              "      <td>1</td>\n",
              "      <td>0</td>\n",
              "      <td>2</td>\n",
              "      <td>2</td>\n",
              "      <td>1</td>\n",
              "      <td>2</td>\n",
              "      <td>2</td>\n",
              "      <td>633</td>\n",
              "    </tr>\n",
              "    <tr>\n",
              "      <th>1</th>\n",
              "      <td>10000000</td>\n",
              "      <td>2</td>\n",
              "      <td>0</td>\n",
              "      <td>0</td>\n",
              "      <td>08:38</td>\n",
              "      <td>IN</td>\n",
              "      <td>10001</td>\n",
              "      <td>2</td>\n",
              "      <td>0</td>\n",
              "      <td>2</td>\n",
              "      <td>...</td>\n",
              "      <td>1.0</td>\n",
              "      <td>2.0</td>\n",
              "      <td>1</td>\n",
              "      <td>0</td>\n",
              "      <td>2</td>\n",
              "      <td>2</td>\n",
              "      <td>1</td>\n",
              "      <td>2</td>\n",
              "      <td>1</td>\n",
              "      <td>630</td>\n",
              "    </tr>\n",
              "    <tr>\n",
              "      <th>2</th>\n",
              "      <td>10000000</td>\n",
              "      <td>3</td>\n",
              "      <td>0</td>\n",
              "      <td>0</td>\n",
              "      <td>08:38</td>\n",
              "      <td>IN</td>\n",
              "      <td>10001</td>\n",
              "      <td>2</td>\n",
              "      <td>0</td>\n",
              "      <td>2</td>\n",
              "      <td>...</td>\n",
              "      <td>1.0</td>\n",
              "      <td>2.0</td>\n",
              "      <td>1</td>\n",
              "      <td>0</td>\n",
              "      <td>2</td>\n",
              "      <td>2</td>\n",
              "      <td>1</td>\n",
              "      <td>2</td>\n",
              "      <td>1</td>\n",
              "      <td>630</td>\n",
              "    </tr>\n",
              "    <tr>\n",
              "      <th>3</th>\n",
              "      <td>10000000</td>\n",
              "      <td>4</td>\n",
              "      <td>0</td>\n",
              "      <td>0</td>\n",
              "      <td>08:39</td>\n",
              "      <td>IN</td>\n",
              "      <td>10001</td>\n",
              "      <td>2</td>\n",
              "      <td>0</td>\n",
              "      <td>2</td>\n",
              "      <td>...</td>\n",
              "      <td>1.0</td>\n",
              "      <td>2.0</td>\n",
              "      <td>1</td>\n",
              "      <td>0</td>\n",
              "      <td>2</td>\n",
              "      <td>2</td>\n",
              "      <td>1</td>\n",
              "      <td>2</td>\n",
              "      <td>1</td>\n",
              "      <td>630</td>\n",
              "    </tr>\n",
              "    <tr>\n",
              "      <th>4</th>\n",
              "      <td>10000000</td>\n",
              "      <td>5</td>\n",
              "      <td>0</td>\n",
              "      <td>0</td>\n",
              "      <td>11:55</td>\n",
              "      <td>IN</td>\n",
              "      <td>10001</td>\n",
              "      <td>2</td>\n",
              "      <td>0</td>\n",
              "      <td>2</td>\n",
              "      <td>...</td>\n",
              "      <td>1.0</td>\n",
              "      <td>2.0</td>\n",
              "      <td>1</td>\n",
              "      <td>0</td>\n",
              "      <td>2</td>\n",
              "      <td>2</td>\n",
              "      <td>1</td>\n",
              "      <td>2</td>\n",
              "      <td>1</td>\n",
              "      <td>630</td>\n",
              "    </tr>\n",
              "  </tbody>\n",
              "</table>\n",
              "<p>5 rows × 25 columns</p>\n",
              "</div>\n",
              "      <button class=\"colab-df-convert\" onclick=\"convertToInteractive('df-44612ce1-8c9d-4891-854d-19d660576f15')\"\n",
              "              title=\"Convert this dataframe to an interactive table.\"\n",
              "              style=\"display:none;\">\n",
              "        \n",
              "  <svg xmlns=\"http://www.w3.org/2000/svg\" height=\"24px\"viewBox=\"0 0 24 24\"\n",
              "       width=\"24px\">\n",
              "    <path d=\"M0 0h24v24H0V0z\" fill=\"none\"/>\n",
              "    <path d=\"M18.56 5.44l.94 2.06.94-2.06 2.06-.94-2.06-.94-.94-2.06-.94 2.06-2.06.94zm-11 1L8.5 8.5l.94-2.06 2.06-.94-2.06-.94L8.5 2.5l-.94 2.06-2.06.94zm10 10l.94 2.06.94-2.06 2.06-.94-2.06-.94-.94-2.06-.94 2.06-2.06.94z\"/><path d=\"M17.41 7.96l-1.37-1.37c-.4-.4-.92-.59-1.43-.59-.52 0-1.04.2-1.43.59L10.3 9.45l-7.72 7.72c-.78.78-.78 2.05 0 2.83L4 21.41c.39.39.9.59 1.41.59.51 0 1.02-.2 1.41-.59l7.78-7.78 2.81-2.81c.8-.78.8-2.07 0-2.86zM5.41 20L4 18.59l7.72-7.72 1.47 1.35L5.41 20z\"/>\n",
              "  </svg>\n",
              "      </button>\n",
              "      \n",
              "  <style>\n",
              "    .colab-df-container {\n",
              "      display:flex;\n",
              "      flex-wrap:wrap;\n",
              "      gap: 12px;\n",
              "    }\n",
              "\n",
              "    .colab-df-convert {\n",
              "      background-color: #E8F0FE;\n",
              "      border: none;\n",
              "      border-radius: 50%;\n",
              "      cursor: pointer;\n",
              "      display: none;\n",
              "      fill: #1967D2;\n",
              "      height: 32px;\n",
              "      padding: 0 0 0 0;\n",
              "      width: 32px;\n",
              "    }\n",
              "\n",
              "    .colab-df-convert:hover {\n",
              "      background-color: #E2EBFA;\n",
              "      box-shadow: 0px 1px 2px rgba(60, 64, 67, 0.3), 0px 1px 3px 1px rgba(60, 64, 67, 0.15);\n",
              "      fill: #174EA6;\n",
              "    }\n",
              "\n",
              "    [theme=dark] .colab-df-convert {\n",
              "      background-color: #3B4455;\n",
              "      fill: #D2E3FC;\n",
              "    }\n",
              "\n",
              "    [theme=dark] .colab-df-convert:hover {\n",
              "      background-color: #434B5C;\n",
              "      box-shadow: 0px 1px 3px 1px rgba(0, 0, 0, 0.15);\n",
              "      filter: drop-shadow(0px 1px 2px rgba(0, 0, 0, 0.3));\n",
              "      fill: #FFFFFF;\n",
              "    }\n",
              "  </style>\n",
              "\n",
              "      <script>\n",
              "        const buttonEl =\n",
              "          document.querySelector('#df-44612ce1-8c9d-4891-854d-19d660576f15 button.colab-df-convert');\n",
              "        buttonEl.style.display =\n",
              "          google.colab.kernel.accessAllowed ? 'block' : 'none';\n",
              "\n",
              "        async function convertToInteractive(key) {\n",
              "          const element = document.querySelector('#df-44612ce1-8c9d-4891-854d-19d660576f15');\n",
              "          const dataTable =\n",
              "            await google.colab.kernel.invokeFunction('convertToInteractive',\n",
              "                                                     [key], {});\n",
              "          if (!dataTable) return;\n",
              "\n",
              "          const docLinkHtml = 'Like what you see? Visit the ' +\n",
              "            '<a target=\"_blank\" href=https://colab.research.google.com/notebooks/data_table.ipynb>data table notebook</a>'\n",
              "            + ' to learn more about interactive tables.';\n",
              "          element.innerHTML = '';\n",
              "          dataTable['output_type'] = 'display_data';\n",
              "          await google.colab.output.renderOutput(dataTable, element);\n",
              "          const docLink = document.createElement('div');\n",
              "          docLink.innerHTML = docLinkHtml;\n",
              "          element.appendChild(docLink);\n",
              "        }\n",
              "      </script>\n",
              "    </div>\n",
              "  </div>\n",
              "  "
            ]
          },
          "metadata": {},
          "execution_count": 9
        }
      ]
    },
    {
      "cell_type": "code",
      "source": [
        "data.info()"
      ],
      "metadata": {
        "colab": {
          "base_uri": "https://localhost:8080/"
        },
        "id": "eUui0GuMMN7v",
        "outputId": "056ec6ea-f5d9-4d91-e7b8-7f63b5405f66"
      },
      "execution_count": 10,
      "outputs": [
        {
          "output_type": "stream",
          "name": "stdout",
          "text": [
            "<class 'pandas.core.frame.DataFrame'>\n",
            "RangeIndex: 665249 entries, 0 to 665248\n",
            "Data columns (total 25 columns):\n",
            " #   Column             Non-Null Count   Dtype  \n",
            "---  ------             --------------   -----  \n",
            " 0   customer_ID        665249 non-null  int64  \n",
            " 1   shopping_pt        665249 non-null  int64  \n",
            " 2   record_type        665249 non-null  int64  \n",
            " 3   day                665249 non-null  int64  \n",
            " 4   time               665249 non-null  object \n",
            " 5   state              665249 non-null  object \n",
            " 6   location           665249 non-null  int64  \n",
            " 7   group_size         665249 non-null  int64  \n",
            " 8   homeowner          665249 non-null  int64  \n",
            " 9   car_age            665249 non-null  int64  \n",
            " 10  car_value          663718 non-null  object \n",
            " 11  risk_factor        424831 non-null  float64\n",
            " 12  age_oldest         665249 non-null  int64  \n",
            " 13  age_youngest       665249 non-null  int64  \n",
            " 14  married_couple     665249 non-null  int64  \n",
            " 15  C_previous         646538 non-null  float64\n",
            " 16  duration_previous  646538 non-null  float64\n",
            " 17  A                  665249 non-null  int64  \n",
            " 18  B                  665249 non-null  int64  \n",
            " 19  C                  665249 non-null  int64  \n",
            " 20  D                  665249 non-null  int64  \n",
            " 21  E                  665249 non-null  int64  \n",
            " 22  F                  665249 non-null  int64  \n",
            " 23  G                  665249 non-null  int64  \n",
            " 24  cost               665249 non-null  int64  \n",
            "dtypes: float64(3), int64(19), object(3)\n",
            "memory usage: 126.9+ MB\n"
          ]
        }
      ]
    },
    {
      "cell_type": "code",
      "source": [
        "data.isna().sum()"
      ],
      "metadata": {
        "colab": {
          "base_uri": "https://localhost:8080/"
        },
        "id": "L4yb9yf9MvBJ",
        "outputId": "9103dbe5-5b92-41af-9d8c-f59369c6b394"
      },
      "execution_count": 11,
      "outputs": [
        {
          "output_type": "execute_result",
          "data": {
            "text/plain": [
              "customer_ID               0\n",
              "shopping_pt               0\n",
              "record_type               0\n",
              "day                       0\n",
              "time                      0\n",
              "state                     0\n",
              "location                  0\n",
              "group_size                0\n",
              "homeowner                 0\n",
              "car_age                   0\n",
              "car_value              1531\n",
              "risk_factor          240418\n",
              "age_oldest                0\n",
              "age_youngest              0\n",
              "married_couple            0\n",
              "C_previous            18711\n",
              "duration_previous     18711\n",
              "A                         0\n",
              "B                         0\n",
              "C                         0\n",
              "D                         0\n",
              "E                         0\n",
              "F                         0\n",
              "G                         0\n",
              "cost                      0\n",
              "dtype: int64"
            ]
          },
          "metadata": {},
          "execution_count": 11
        }
      ]
    },
    {
      "cell_type": "code",
      "source": [
        "data['state'].value_counts()"
      ],
      "metadata": {
        "colab": {
          "base_uri": "https://localhost:8080/"
        },
        "id": "Kcf6I_Z3QjuO",
        "outputId": "7c4c3096-5243-40a0-e94b-683d922b7f79"
      },
      "execution_count": 12,
      "outputs": [
        {
          "output_type": "execute_result",
          "data": {
            "text/plain": [
              "FL    106287\n",
              "NY     91627\n",
              "PA     60677\n",
              "OH     44537\n",
              "MD     28443\n",
              "IN     25295\n",
              "WA     25188\n",
              "CO     24409\n",
              "AL     23560\n",
              "CT     19353\n",
              "TN     18099\n",
              "KY     16100\n",
              "NV     15459\n",
              "MO     15243\n",
              "OR     15068\n",
              "UT     14820\n",
              "OK     13779\n",
              "MS     10722\n",
              "AR     10460\n",
              "WI     10103\n",
              "GA      8802\n",
              "NH      7988\n",
              "ME      6800\n",
              "NM      6790\n",
              "ID      6110\n",
              "RI      5887\n",
              "KS      5585\n",
              "WV      5053\n",
              "IA      4545\n",
              "DE      4101\n",
              "DC      3748\n",
              "MT      3332\n",
              "NE      3121\n",
              "ND      2487\n",
              "WY      1163\n",
              "SD       508\n",
              "Name: state, dtype: int64"
            ]
          },
          "metadata": {},
          "execution_count": 12
        }
      ]
    },
    {
      "cell_type": "code",
      "source": [
        "data['car_value'].value_counts()"
      ],
      "metadata": {
        "colab": {
          "base_uri": "https://localhost:8080/"
        },
        "id": "NCdpqoAqQsZL",
        "outputId": "e32a3e7f-cde8-4899-acd6-01f00f88e7a4"
      },
      "execution_count": 13,
      "outputs": [
        {
          "output_type": "execute_result",
          "data": {
            "text/plain": [
              "e    219251\n",
              "f    177204\n",
              "d    113174\n",
              "g     98152\n",
              "h     28976\n",
              "c     20820\n",
              "i      3603\n",
              "b      1402\n",
              "a      1136\n",
              "Name: car_value, dtype: int64"
            ]
          },
          "metadata": {},
          "execution_count": 13
        }
      ]
    },
    {
      "cell_type": "code",
      "source": [
        "data['car_value'].mode()[0]"
      ],
      "metadata": {
        "colab": {
          "base_uri": "https://localhost:8080/",
          "height": 35
        },
        "id": "RnCwandNQ8q4",
        "outputId": "78916556-6d11-427a-9934-b1f9e8bfbdfd"
      },
      "execution_count": 15,
      "outputs": [
        {
          "output_type": "execute_result",
          "data": {
            "text/plain": [
              "'e'"
            ],
            "application/vnd.google.colaboratory.intrinsic+json": {
              "type": "string"
            }
          },
          "metadata": {},
          "execution_count": 15
        }
      ]
    },
    {
      "cell_type": "code",
      "source": [
        "data.fillna({'car_value':data['car_value'].mode()[0]},inplace=True)"
      ],
      "metadata": {
        "id": "rKh9ix5CRBiM"
      },
      "execution_count": 16,
      "outputs": []
    },
    {
      "cell_type": "code",
      "source": [
        "data['car_value'].isna().sum()"
      ],
      "metadata": {
        "colab": {
          "base_uri": "https://localhost:8080/"
        },
        "id": "yftnaIxDRmAF",
        "outputId": "12508121-30be-404f-8424-1c0cbd441032"
      },
      "execution_count": 17,
      "outputs": [
        {
          "output_type": "execute_result",
          "data": {
            "text/plain": [
              "0"
            ]
          },
          "metadata": {},
          "execution_count": 17
        }
      ]
    },
    {
      "cell_type": "code",
      "source": [
        "for col in data.columns:\n",
        "  if data[col].dtypes!='O':\n",
        "    data[col] = data[col].fillna(data[col].mean())\n",
        "data.isna().sum()"
      ],
      "metadata": {
        "colab": {
          "base_uri": "https://localhost:8080/"
        },
        "id": "PMwQIu8TRrb-",
        "outputId": "cccdd59b-e3dd-40c6-b024-625a80cba0e4"
      },
      "execution_count": 19,
      "outputs": [
        {
          "output_type": "execute_result",
          "data": {
            "text/plain": [
              "customer_ID          0\n",
              "shopping_pt          0\n",
              "record_type          0\n",
              "day                  0\n",
              "time                 0\n",
              "state                0\n",
              "location             0\n",
              "group_size           0\n",
              "homeowner            0\n",
              "car_age              0\n",
              "car_value            0\n",
              "risk_factor          0\n",
              "age_oldest           0\n",
              "age_youngest         0\n",
              "married_couple       0\n",
              "C_previous           0\n",
              "duration_previous    0\n",
              "A                    0\n",
              "B                    0\n",
              "C                    0\n",
              "D                    0\n",
              "E                    0\n",
              "F                    0\n",
              "G                    0\n",
              "cost                 0\n",
              "dtype: int64"
            ]
          },
          "metadata": {},
          "execution_count": 19
        }
      ]
    },
    {
      "cell_type": "code",
      "source": [
        "data['time'] = pd.to_datetime(data['time'])"
      ],
      "metadata": {
        "id": "2RpzKfyjSYHf"
      },
      "execution_count": 22,
      "outputs": []
    },
    {
      "cell_type": "code",
      "source": [
        "data['hour'] = data['time'].dt.hour\n",
        "data['minute'] = data['time'].dt.minute"
      ],
      "metadata": {
        "id": "ghzneN_sVqlJ"
      },
      "execution_count": 27,
      "outputs": []
    },
    {
      "cell_type": "code",
      "source": [
        "data.drop(columns=['time'],inplace=True)"
      ],
      "metadata": {
        "id": "IWVMl5lVV4kk"
      },
      "execution_count": 30,
      "outputs": []
    },
    {
      "cell_type": "code",
      "source": [
        "data.info()"
      ],
      "metadata": {
        "colab": {
          "base_uri": "https://localhost:8080/"
        },
        "id": "l4hts93JWM68",
        "outputId": "3db7863d-61b5-468a-8e88-f9aa83060209"
      },
      "execution_count": 31,
      "outputs": [
        {
          "output_type": "stream",
          "name": "stdout",
          "text": [
            "<class 'pandas.core.frame.DataFrame'>\n",
            "RangeIndex: 665249 entries, 0 to 665248\n",
            "Data columns (total 26 columns):\n",
            " #   Column             Non-Null Count   Dtype  \n",
            "---  ------             --------------   -----  \n",
            " 0   customer_ID        665249 non-null  int64  \n",
            " 1   shopping_pt        665249 non-null  int64  \n",
            " 2   record_type        665249 non-null  int64  \n",
            " 3   day                665249 non-null  int64  \n",
            " 4   state              665249 non-null  object \n",
            " 5   location           665249 non-null  int64  \n",
            " 6   group_size         665249 non-null  int64  \n",
            " 7   homeowner          665249 non-null  int64  \n",
            " 8   car_age            665249 non-null  int64  \n",
            " 9   car_value          665249 non-null  object \n",
            " 10  risk_factor        665249 non-null  float64\n",
            " 11  age_oldest         665249 non-null  int64  \n",
            " 12  age_youngest       665249 non-null  int64  \n",
            " 13  married_couple     665249 non-null  int64  \n",
            " 14  C_previous         665249 non-null  float64\n",
            " 15  duration_previous  665249 non-null  float64\n",
            " 16  A                  665249 non-null  int64  \n",
            " 17  B                  665249 non-null  int64  \n",
            " 18  C                  665249 non-null  int64  \n",
            " 19  D                  665249 non-null  int64  \n",
            " 20  E                  665249 non-null  int64  \n",
            " 21  F                  665249 non-null  int64  \n",
            " 22  G                  665249 non-null  int64  \n",
            " 23  cost               665249 non-null  int64  \n",
            " 24  hour               665249 non-null  int64  \n",
            " 25  minute             665249 non-null  int64  \n",
            "dtypes: float64(3), int64(21), object(2)\n",
            "memory usage: 132.0+ MB\n"
          ]
        }
      ]
    },
    {
      "cell_type": "code",
      "source": [
        "for col in data.columns:\n",
        "  if data[col].dtypes=='O':\n",
        "    data[col] = data[col].astype('category').cat.codes\n",
        "data.info()"
      ],
      "metadata": {
        "colab": {
          "base_uri": "https://localhost:8080/"
        },
        "id": "WcygXKqEWlH0",
        "outputId": "e8445431-1ec8-4551-b438-0f2368efbd0a"
      },
      "execution_count": 32,
      "outputs": [
        {
          "output_type": "stream",
          "name": "stdout",
          "text": [
            "<class 'pandas.core.frame.DataFrame'>\n",
            "RangeIndex: 665249 entries, 0 to 665248\n",
            "Data columns (total 26 columns):\n",
            " #   Column             Non-Null Count   Dtype  \n",
            "---  ------             --------------   -----  \n",
            " 0   customer_ID        665249 non-null  int64  \n",
            " 1   shopping_pt        665249 non-null  int64  \n",
            " 2   record_type        665249 non-null  int64  \n",
            " 3   day                665249 non-null  int64  \n",
            " 4   state              665249 non-null  int8   \n",
            " 5   location           665249 non-null  int64  \n",
            " 6   group_size         665249 non-null  int64  \n",
            " 7   homeowner          665249 non-null  int64  \n",
            " 8   car_age            665249 non-null  int64  \n",
            " 9   car_value          665249 non-null  int8   \n",
            " 10  risk_factor        665249 non-null  float64\n",
            " 11  age_oldest         665249 non-null  int64  \n",
            " 12  age_youngest       665249 non-null  int64  \n",
            " 13  married_couple     665249 non-null  int64  \n",
            " 14  C_previous         665249 non-null  float64\n",
            " 15  duration_previous  665249 non-null  float64\n",
            " 16  A                  665249 non-null  int64  \n",
            " 17  B                  665249 non-null  int64  \n",
            " 18  C                  665249 non-null  int64  \n",
            " 19  D                  665249 non-null  int64  \n",
            " 20  E                  665249 non-null  int64  \n",
            " 21  F                  665249 non-null  int64  \n",
            " 22  G                  665249 non-null  int64  \n",
            " 23  cost               665249 non-null  int64  \n",
            " 24  hour               665249 non-null  int64  \n",
            " 25  minute             665249 non-null  int64  \n",
            "dtypes: float64(3), int64(21), int8(2)\n",
            "memory usage: 123.1 MB\n"
          ]
        }
      ]
    },
    {
      "cell_type": "code",
      "source": [
        "import numpy as np\n",
        "\n",
        "def remove_outliers(col,train_data):\n",
        "  Q1 = train_data[col].quantile(0.25)\n",
        "  Q3 = train_data[col].quantile(0.75)\n",
        "  IQR = Q3-Q1\n",
        "  lb = Q1-1.5*IQR\n",
        "  ub = Q3+1.5*IQR\n",
        "  train_data[col] = np.where(train_data[col]<lb,lb,train_data[col])\n",
        "  train_data[col] = np.where(train_data[col]>ub,ub,train_data[col])\n",
        "\n",
        "for col in data.columns:\n",
        "  remove_outliers(col,data)"
      ],
      "metadata": {
        "id": "1bAmGwPGXdm4"
      },
      "execution_count": 33,
      "outputs": []
    },
    {
      "cell_type": "code",
      "source": [
        "import matplotlib.pyplot as plt\n",
        "import seaborn as sns\n",
        "\n",
        "sns.heatmap(data.corr())\n",
        "plt.show()"
      ],
      "metadata": {
        "colab": {
          "base_uri": "https://localhost:8080/",
          "height": 329
        },
        "id": "XEY7GOqxYYvd",
        "outputId": "bca47ebc-c575-44af-94ff-9514478dd343"
      },
      "execution_count": 34,
      "outputs": [
        {
          "output_type": "display_data",
          "data": {
            "text/plain": [
              "<Figure size 432x288 with 2 Axes>"
            ],
            "image/png": "[encoded data removed]"
          },
          "metadata": {
            "needs_background": "light"
          }
        }
      ]
    },
    {
      "cell_type": "code",
      "source": [
        "from sklearn.preprocessing import MinMaxScaler\n",
        "\n",
        "scaler = MinMaxScaler()\n",
        "data[data.columns] = scaler.fit_transform(data)\n"
      ],
      "metadata": {
        "id": "3XXyOQUvdOok"
      },
      "execution_count": 38,
      "outputs": []
    },
    {
      "cell_type": "code",
      "source": [
        "data.head()"
      ],
      "metadata": {
        "colab": {
          "base_uri": "https://localhost:8080/",
          "height": 300
        },
        "id": "4-ShbLOceWX0",
        "outputId": "4662482a-2720-4066-fd53-62ff12c0577a"
      },
      "execution_count": 39,
      "outputs": [
        {
          "output_type": "execute_result",
          "data": {
            "text/plain": [
              "   customer_ID  shopping_pt  record_type  day     state  location  group_size  \\\n",
              "0          0.0     0.000000          0.0  0.0  0.285714       0.0         0.0   \n",
              "1          0.0     0.090909          0.0  0.0  0.285714       0.0         0.0   \n",
              "2          0.0     0.181818          0.0  0.0  0.285714       0.0         0.0   \n",
              "3          0.0     0.272727          0.0  0.0  0.285714       0.0         0.0   \n",
              "4          0.0     0.363636          0.0  0.0  0.285714       0.0         0.0   \n",
              "\n",
              "   homeowner   car_age  car_value  ...    A    B         C    D    E  \\\n",
              "0        0.0  0.078431      0.875  ...  0.0  0.0  0.333333  0.5  1.0   \n",
              "1        0.0  0.078431      0.875  ...  0.0  0.0  0.333333  0.5  1.0   \n",
              "2        0.0  0.078431      0.875  ...  0.0  0.0  0.333333  0.5  1.0   \n",
              "3        0.0  0.078431      0.875  ...  0.0  0.0  0.333333  0.5  1.0   \n",
              "4        0.0  0.078431      0.875  ...  0.0  0.0  0.333333  0.5  1.0   \n",
              "\n",
              "          F         G      cost   hour    minute  \n",
              "0  0.666667  0.333333  0.491667  0.275  0.593220  \n",
              "1  0.666667  0.000000  0.479167  0.275  0.644068  \n",
              "2  0.666667  0.000000  0.479167  0.275  0.644068  \n",
              "3  0.666667  0.000000  0.479167  0.275  0.661017  \n",
              "4  0.666667  0.000000  0.479167  0.425  0.932203  \n",
              "\n",
              "[5 rows x 26 columns]"
            ],
            "text/html": [
              "\n",
              "  <div id=\"df-ee4fa3a1-2c4c-496a-b03d-03e2f89e7908\">\n",
              "    <div class=\"colab-df-container\">\n",
              "      <div>\n",
              "<style scoped>\n",
              "    .dataframe tbody tr th:only-of-type {\n",
              "        vertical-align: middle;\n",
              "    }\n",
              "\n",
              "    .dataframe tbody tr th {\n",
              "        vertical-align: top;\n",
              "    }\n",
              "\n",
              "    .dataframe thead th {\n",
              "        text-align: right;\n",
              "    }\n",
              "</style>\n",
              "<table border=\"1\" class=\"dataframe\">\n",
              "  <thead>\n",
              "    <tr style=\"text-align: right;\">\n",
              "      <th></th>\n",
              "      <th>customer_ID</th>\n",
              "      <th>shopping_pt</th>\n",
              "      <th>record_type</th>\n",
              "      <th>day</th>\n",
              "      <th>state</th>\n",
              "      <th>location</th>\n",
              "      <th>group_size</th>\n",
              "      <th>homeowner</th>\n",
              "      <th>car_age</th>\n",
              "      <th>car_value</th>\n",
              "      <th>...</th>\n",
              "      <th>A</th>\n",
              "      <th>B</th>\n",
              "      <th>C</th>\n",
              "      <th>D</th>\n",
              "      <th>E</th>\n",
              "      <th>F</th>\n",
              "      <th>G</th>\n",
              "      <th>cost</th>\n",
              "      <th>hour</th>\n",
              "      <th>minute</th>\n",
              "    </tr>\n",
              "  </thead>\n",
              "  <tbody>\n",
              "    <tr>\n",
              "      <th>0</th>\n",
              "      <td>0.0</td>\n",
              "      <td>0.000000</td>\n",
              "      <td>0.0</td>\n",
              "      <td>0.0</td>\n",
              "      <td>0.285714</td>\n",
              "      <td>0.0</td>\n",
              "      <td>0.0</td>\n",
              "      <td>0.0</td>\n",
              "      <td>0.078431</td>\n",
              "      <td>0.875</td>\n",
              "      <td>...</td>\n",
              "      <td>0.0</td>\n",
              "      <td>0.0</td>\n",
              "      <td>0.333333</td>\n",
              "      <td>0.5</td>\n",
              "      <td>1.0</td>\n",
              "      <td>0.666667</td>\n",
              "      <td>0.333333</td>\n",
              "      <td>0.491667</td>\n",
              "      <td>0.275</td>\n",
              "      <td>0.593220</td>\n",
              "    </tr>\n",
              "    <tr>\n",
              "      <th>1</th>\n",
              "      <td>0.0</td>\n",
              "      <td>0.090909</td>\n",
              "      <td>0.0</td>\n",
              "      <td>0.0</td>\n",
              "      <td>0.285714</td>\n",
              "      <td>0.0</td>\n",
              "      <td>0.0</td>\n",
              "      <td>0.0</td>\n",
              "      <td>0.078431</td>\n",
              "      <td>0.875</td>\n",
              "      <td>...</td>\n",
              "      <td>0.0</td>\n",
              "      <td>0.0</td>\n",
              "      <td>0.333333</td>\n",
              "      <td>0.5</td>\n",
              "      <td>1.0</td>\n",
              "      <td>0.666667</td>\n",
              "      <td>0.000000</td>\n",
              "      <td>0.479167</td>\n",
              "      <td>0.275</td>\n",
              "      <td>0.644068</td>\n",
              "    </tr>\n",
              "    <tr>\n",
              "      <th>2</th>\n",
              "      <td>0.0</td>\n",
              "      <td>0.181818</td>\n",
              "      <td>0.0</td>\n",
              "      <td>0.0</td>\n",
              "      <td>0.285714</td>\n",
              "      <td>0.0</td>\n",
              "      <td>0.0</td>\n",
              "      <td>0.0</td>\n",
              "      <td>0.078431</td>\n",
              "      <td>0.875</td>\n",
              "      <td>...</td>\n",
              "      <td>0.0</td>\n",
              "      <td>0.0</td>\n",
              "      <td>0.333333</td>\n",
              "      <td>0.5</td>\n",
              "      <td>1.0</td>\n",
              "      <td>0.666667</td>\n",
              "      <td>0.000000</td>\n",
              "      <td>0.479167</td>\n",
              "      <td>0.275</td>\n",
              "      <td>0.644068</td>\n",
              "    </tr>\n",
              "    <tr>\n",
              "      <th>3</th>\n",
              "      <td>0.0</td>\n",
              "      <td>0.272727</td>\n",
              "      <td>0.0</td>\n",
              "      <td>0.0</td>\n",
              "      <td>0.285714</td>\n",
              "      <td>0.0</td>\n",
              "      <td>0.0</td>\n",
              "      <td>0.0</td>\n",
              "      <td>0.078431</td>\n",
              "      <td>0.875</td>\n",
              "      <td>...</td>\n",
              "      <td>0.0</td>\n",
              "      <td>0.0</td>\n",
              "      <td>0.333333</td>\n",
              "      <td>0.5</td>\n",
              "      <td>1.0</td>\n",
              "      <td>0.666667</td>\n",
              "      <td>0.000000</td>\n",
              "      <td>0.479167</td>\n",
              "      <td>0.275</td>\n",
              "      <td>0.661017</td>\n",
              "    </tr>\n",
              "    <tr>\n",
              "      <th>4</th>\n",
              "      <td>0.0</td>\n",
              "      <td>0.363636</td>\n",
              "      <td>0.0</td>\n",
              "      <td>0.0</td>\n",
              "      <td>0.285714</td>\n",
              "      <td>0.0</td>\n",
              "      <td>0.0</td>\n",
              "      <td>0.0</td>\n",
              "      <td>0.078431</td>\n",
              "      <td>0.875</td>\n",
              "      <td>...</td>\n",
              "      <td>0.0</td>\n",
              "      <td>0.0</td>\n",
              "      <td>0.333333</td>\n",
              "      <td>0.5</td>\n",
              "      <td>1.0</td>\n",
              "      <td>0.666667</td>\n",
              "      <td>0.000000</td>\n",
              "      <td>0.479167</td>\n",
              "      <td>0.425</td>\n",
              "      <td>0.932203</td>\n",
              "    </tr>\n",
              "  </tbody>\n",
              "</table>\n",
              "<p>5 rows × 26 columns</p>\n",
              "</div>\n",
              "      <button class=\"colab-df-convert\" onclick=\"convertToInteractive('df-ee4fa3a1-2c4c-496a-b03d-03e2f89e7908')\"\n",
              "              title=\"Convert this dataframe to an interactive table.\"\n",
              "              style=\"display:none;\">\n",
              "        \n",
              "  <svg xmlns=\"http://www.w3.org/2000/svg\" height=\"24px\"viewBox=\"0 0 24 24\"\n",
              "       width=\"24px\">\n",
              "    <path d=\"M0 0h24v24H0V0z\" fill=\"none\"/>\n",
              "    <path d=\"M18.56 5.44l.94 2.06.94-2.06 2.06-.94-2.06-.94-.94-2.06-.94 2.06-2.06.94zm-11 1L8.5 8.5l.94-2.06 2.06-.94-2.06-.94L8.5 2.5l-.94 2.06-2.06.94zm10 10l.94 2.06.94-2.06 2.06-.94-2.06-.94-.94-2.06-.94 2.06-2.06.94z\"/><path d=\"M17.41 7.96l-1.37-1.37c-.4-.4-.92-.59-1.43-.59-.52 0-1.04.2-1.43.59L10.3 9.45l-7.72 7.72c-.78.78-.78 2.05 0 2.83L4 21.41c.39.39.9.59 1.41.59.51 0 1.02-.2 1.41-.59l7.78-7.78 2.81-2.81c.8-.78.8-2.07 0-2.86zM5.41 20L4 18.59l7.72-7.72 1.47 1.35L5.41 20z\"/>\n",
              "  </svg>\n",
              "      </button>\n",
              "      \n",
              "  <style>\n",
              "    .colab-df-container {\n",
              "      display:flex;\n",
              "      flex-wrap:wrap;\n",
              "      gap: 12px;\n",
              "    }\n",
              "\n",
              "    .colab-df-convert {\n",
              "      background-color: #E8F0FE;\n",
              "      border: none;\n",
              "      border-radius: 50%;\n",
              "      cursor: pointer;\n",
              "      display: none;\n",
              "      fill: #1967D2;\n",
              "      height: 32px;\n",
              "      padding: 0 0 0 0;\n",
              "      width: 32px;\n",
              "    }\n",
              "\n",
              "    .colab-df-convert:hover {\n",
              "      background-color: #E2EBFA;\n",
              "      box-shadow: 0px 1px 2px rgba(60, 64, 67, 0.3), 0px 1px 3px 1px rgba(60, 64, 67, 0.15);\n",
              "      fill: #174EA6;\n",
              "    }\n",
              "\n",
              "    [theme=dark] .colab-df-convert {\n",
              "      background-color: #3B4455;\n",
              "      fill: #D2E3FC;\n",
              "    }\n",
              "\n",
              "    [theme=dark] .colab-df-convert:hover {\n",
              "      background-color: #434B5C;\n",
              "      box-shadow: 0px 1px 3px 1px rgba(0, 0, 0, 0.15);\n",
              "      filter: drop-shadow(0px 1px 2px rgba(0, 0, 0, 0.3));\n",
              "      fill: #FFFFFF;\n",
              "    }\n",
              "  </style>\n",
              "\n",
              "      <script>\n",
              "        const buttonEl =\n",
              "          document.querySelector('#df-ee4fa3a1-2c4c-496a-b03d-03e2f89e7908 button.colab-df-convert');\n",
              "        buttonEl.style.display =\n",
              "          google.colab.kernel.accessAllowed ? 'block' : 'none';\n",
              "\n",
              "        async function convertToInteractive(key) {\n",
              "          const element = document.querySelector('#df-ee4fa3a1-2c4c-496a-b03d-03e2f89e7908');\n",
              "          const dataTable =\n",
              "            await google.colab.kernel.invokeFunction('convertToInteractive',\n",
              "                                                     [key], {});\n",
              "          if (!dataTable) return;\n",
              "\n",
              "          const docLinkHtml = 'Like what you see? Visit the ' +\n",
              "            '<a target=\"_blank\" href=https://colab.research.google.com/notebooks/data_table.ipynb>data table notebook</a>'\n",
              "            + ' to learn more about interactive tables.';\n",
              "          element.innerHTML = '';\n",
              "          dataTable['output_type'] = 'display_data';\n",
              "          await google.colab.output.renderOutput(dataTable, element);\n",
              "          const docLink = document.createElement('div');\n",
              "          docLink.innerHTML = docLinkHtml;\n",
              "          element.appendChild(docLink);\n",
              "        }\n",
              "      </script>\n",
              "    </div>\n",
              "  </div>\n",
              "  "
            ]
          },
          "metadata": {},
          "execution_count": 39
        }
      ]
    },
    {
      "cell_type": "code",
      "source": [
        "from sklearn.model_selection import train_test_split\n",
        "\n",
        "X_train, X_test, y_train, y_test = train_test_split(data.drop(columns=['cost']),data['cost'])"
      ],
      "metadata": {
        "id": "LaegVc65Y1Tq"
      },
      "execution_count": 40,
      "outputs": []
    },
    {
      "cell_type": "code",
      "source": [
        "from sklearn.ensemble import RandomForestRegressor\n",
        "from sklearn.metrics import mean_squared_error\n",
        "\n",
        "rfr = RandomForestRegressor()\n",
        "rfr.fit(X_train,y_train)\n",
        "preds = rfr.predict(X_test)\n",
        "mean_squared_error(preds,y_test)"
      ],
      "metadata": {
        "colab": {
          "base_uri": "https://localhost:8080/"
        },
        "id": "WEDGaLE1ZTmq",
        "outputId": "667cdd5d-256b-4c01-d875-129e7e22c476"
      },
      "execution_count": 41,
      "outputs": [
        {
          "output_type": "execute_result",
          "data": {
            "text/plain": [
              "0.0041515038459110235"
            ]
          },
          "metadata": {},
          "execution_count": 41
        }
      ]
    }
  ]
}